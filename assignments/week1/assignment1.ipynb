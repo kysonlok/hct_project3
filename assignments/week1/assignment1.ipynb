{
 "cells": [
  {
   "cell_type": "markdown",
   "metadata": {},
   "source": [
    "## 作业要求  \n",
    "\n",
    "利用梯度下降法求 $y = x^2$ 的最小值。"
   ]
  },
  {
   "cell_type": "markdown",
   "metadata": {},
   "source": [
    "## 实现思路  \n",
    "\n",
    "1. 随机初始化 $x$，计算 $y$； \n",
    "2. 计算 $y = x^2$ 的导数，$\\frac{\\partial y}{\\partial x} = 2x$；\n",
    "3. 利用梯度下降更新 $x$ 的值，$x = x - r\\frac{\\partial y}{\\partial x}$，用更新后的 $x$ 计算 $y$；\n",
    "4. 比较两个 $y$；\n",
    "5. 循环步骤2, 3, 4, 直到差值远小于0（如 $10^{-6}$）时，认为逼近局部最小值了。 "
   ]
  },
  {
   "cell_type": "markdown",
   "metadata": {},
   "source": [
    "## 代码实现"
   ]
  },
  {
   "cell_type": "code",
   "execution_count": 1,
   "metadata": {},
   "outputs": [],
   "source": [
    "import matplotlib.pyplot as plt\n",
    "import numpy as np"
   ]
  },
  {
   "cell_type": "code",
   "execution_count": 2,
   "metadata": {},
   "outputs": [],
   "source": [
    "def f(x):\n",
    "    return x ** 2\n",
    "\n",
    "def deriv(x):\n",
    "    return 2 * x\n",
    "\n",
    "def gradient_decs(n):\n",
    "    lrate = 0.1               # 学习率\n",
    "    delta = 10e-6             # 变化值小于 10e-6 认为收敛\n",
    "    x = 10                    # 初始值\n",
    "    x_list = []\n",
    "    y_list = []\n",
    "    for i in range(n):\n",
    "        y0 = f(x) \n",
    "        \n",
    "        grad = deriv(x)\n",
    "        x = x - lrate * grad   \n",
    "        \n",
    "        y1 = f(x)\n",
    "        \n",
    "        x_list.append(x)\n",
    "        y_list.append(y1)\n",
    "    \n",
    "        if y0 - y1 < delta:\n",
    "            return x_list, y_list\n",
    "\n",
    "    return x_list, y_list"
   ]
  },
  {
   "cell_type": "code",
   "execution_count": 3,
   "metadata": {},
   "outputs": [
    {
     "data": {
      "text/plain": [
       "[<matplotlib.lines.Line2D at 0x23cb73afd08>]"
      ]
     },
     "execution_count": 3,
     "metadata": {},
     "output_type": "execute_result"
    },
    {
     "data": {
      "image/png": "[encoded data removed]",
      "text/plain": [
       "<Figure size 432x288 with 1 Axes>"
      ]
     },
     "metadata": {
      "needs_background": "light"
     },
     "output_type": "display_data"
    }
   ],
   "source": [
    "# 梯度下降，迭代 100 次\n",
    "x_list, y_list = gradient_decs(100)\n",
    "\n",
    "# 绘制线图数据\n",
    "X = np.linspace(-10, 10)\n",
    "Y = X ** 2\n",
    "\n",
    "ax = plt.gca()\n",
    "ax.spines['right'].set_color('none')\n",
    "ax.spines['top'].set_color('none')\n",
    "ax.xaxis.set_ticks_position('bottom')\n",
    "ax.spines['bottom'].set_position(('data', 0))\n",
    "ax.yaxis.set_ticks_position('left')\n",
    "ax.spines['left'].set_position(('data', 0))\n",
    "\n",
    "# 设置坐标轴上行限\n",
    "plt.xlim(-10, 10)\n",
    "plt.ylim(0, 100)\n",
    "\n",
    "plt.plot(X, Y)\n",
    "plt.plot(x_list, y_list, color='red', marker='o', linewidth=2, markersize=4)"
   ]
  }
 ],
 "metadata": {
  "kernelspec": {
   "display_name": "Python 3",
   "language": "python",
   "name": "python3"
  },
  "language_info": {
   "codemirror_mode": {
    "name": "ipython",
    "version": 3
   },
   "file_extension": ".py",
   "mimetype": "text/x-python",
   "name": "python",
   "nbconvert_exporter": "python",
   "pygments_lexer": "ipython3",
   "version": "3.7.4"
  }
 },
 "nbformat": 4,
 "nbformat_minor": 4
}
